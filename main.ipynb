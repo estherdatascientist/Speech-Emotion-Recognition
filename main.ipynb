{
 "cells": [
  {
   "cell_type": "markdown",
   "metadata": {},
   "source": [
    "# __Kenyan Swahili Speech Emotion Recognition System__ \n",
    "\n",
    "### Researchers\n",
    "1. Ian Korir - Group Leader\n",
    "2. Hellen Samuel \n",
    "3. Gregory Mikuro \n",
    "4. Doreen Wanjiru\n",
    "5. Esther Francis - Scrum Master\n",
    "\n",
    "### Facilitator\n",
    "Nikita Njoroge - Technical Mentor"
   ]
  },
  {
   "cell_type": "markdown",
   "metadata": {},
   "source": [
    "## **1.0 Business Understanding**\n",
    "\n",
    "### **1.1 Introduction**\n",
    "In today’s customer service landscape, understanding and responding to customer emotions effectively can be a key differentiator for businesses. By integrating Speech Emotion Recognition (SER) technology into customer service call centers, companies can enhance the quality of interactions, tailoring responses to meet the emotional needs of customers. This project focuses on developing an SER model specifically designed to recognize emotions in Kenyan Swahili speech, thereby addressing a significant gap in existing emotion AI technologies and offering a tailored solution for the Kenyan market.\n",
    "\n",
    "### **1.2 Background**\n",
    "Customer service call centers often serve as the first point of contact between a company and its customers. In these interactions, understanding the emotional state of the customer can be crucial for delivering effective and empathetic service. However, existing SER systems are predominantly designed for languages like English and may not perform well with Swahili, the most widely spoken language in Kenya. Given the unique phonetic and prosodic characteristics of Swahili, there is a clear need for a localized SER model. This project aims to address this need by developing an SER model that can accurately classify emotions in Swahili speech, specifically within the context of customer service call centers.\n",
    "\n",
    "### **1.3 Research Problem**\n",
    "Customer service call centers in Kenya face challenges in effectively understanding and responding to customer emotions due to the lack of SER systems tailored to Swahili. This gap limits the ability of service agents to provide personalized and emotionally intelligent responses, which can negatively impact customer satisfaction and overall service quality. By focusing on the development of a Swahili-specific SER model, this project seeks to enhance the capability of call centers to manage customer interactions more effectively, ultimately improving the customer experience.\n",
    "\n",
    "### **1.4 Problem Statement**\n",
    "The absence of a robust, Swahili-specific Speech Emotion Recognition (SER) model hinders the ability of customer service call centers in Kenya to accurately detect and respond to customer emotions. This limitation can lead to suboptimal customer interactions and reduced satisfaction levels. Therefore, this project aims to develop an emotion recognition model tailored to the linguistic and cultural nuances of Kenyan Swahili, enabling more effective and empathetic customer service interactions in call centers.\n",
    "\n",
    "### **1.5 Objectives**\n",
    "1. **Data Collection and Preprocessing**: Collect, preprocess, and annotate a diverse dataset of Kenyan Swahili audio samples for five target emotions: Anger, Happiness, Sadness, Calmness, and Surprise.\n",
    "2. **Acoustic Feature Analysis**: Extract and analyze acoustic features from the collected Swahili samples, examining relationships between these features and the corresponding emotions.\n",
    "3. **Feature Selection and Data Augmentation**: Develop a feature selection methodology tailored to Swahili speech patterns and implement data augmentation techniques to enhance the diversity and robustness of the dataset.\n",
    "4. **Model Development and Deployment**: Create and deploy a deep neural network-based classification model with a target accuracy of at least 80% for emotion recognition in Kenyan Swahili speech.\n",
    "\n",
    "\n",
    "The key business driver is to enhance customer service quality by enabling real-time emotion detection, which can be used to optimize customer interactions, improve agent performance, and increase overall customer satisfaction.\n",
    "\n",
    "\n",
    "### **1.6 Stakeholder**"
   ]
  },
  {
   "cell_type": "markdown",
   "metadata": {},
   "source": [
    "## **2.0 Data Understanding**\n",
    "\n",
    "### **2.1 Methodology**\n",
    "The dataset for this project was collected from 240 participants, ensuring a balanced representation of gender (male and female) and the five target emotions (Anger, Happiness, Sadness, Calmness, and Surprise). Participants were volunteers who contributed Swahili speech samples reflecting these emotions in controlled settings to ensure consistency in the data collection process. The methodology also considered variations in speaker accents and dialects to enhance the model’s generalization capability.\n",
    "\n",
    "### **2.2 Structure**\n",
    "The dataset was structured to ensure a balanced distribution of speech samples across the five emotions and the two gender categories. This balanced structure is crucial for developing a model that performs well across different demographic groups and emotional states. Each participant provided multiple samples for each emotion, resulting in a comprehensive dataset that captures the nuances of Swahili speech across different emotional contexts. The collected data was systematically organized and labeled, facilitating efficient preprocessing and feature extraction in subsequent phases of the project."
   ]
  },
  {
   "cell_type": "markdown",
   "metadata": {},
   "source": []
  }
 ],
 "metadata": {
  "language_info": {
   "name": "python"
  }
 },
 "nbformat": 4,
 "nbformat_minor": 2
}
